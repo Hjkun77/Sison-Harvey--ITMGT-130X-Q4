{
 "cells": [
  {
   "cell_type": "markdown",
   "metadata": {},
   "source": [
    "## Playing With Functions"
   ]
  },
  {
   "cell_type": "markdown",
   "metadata": {},
   "source": [
    "These exercises are designed to strengthen your grasp on basic programming concepts. Read what is required of you carefully. For example, instructions to **return** values are not the same as those of **printing**.\n",
    "\n",
    "Make sure that cells are in **script mode** (not **interactive mode**).\n"
   ]
  },
  {
   "cell_type": "markdown",
   "metadata": {},
   "source": [
    "# 1\n",
    "### 1 point\n",
    "\n",
    "Write a function that takes the circumference of a circle as a parameter and **returns** the area of that circle.\n",
    "\n",
    "Note: Assume the value of pi is 3.1416"
   ]
  },
  {
   "cell_type": "code",
   "execution_count": 8,
   "metadata": {},
   "outputs": [
    {
     "name": "stdout",
     "output_type": "stream",
     "text": [
      "Enter the Circumference: 1231\n",
      "Area of the circle =  120588.3148714031\n"
     ]
    }
   ],
   "source": [
    "def area_of_circle():\n",
    "    data = float(input(\"Enter the Circumference: \"))\n",
    "    pi = 3.1416\n",
    "    radius = data/(2*pi)\n",
    "    area = pi*(radius**2)\n",
    "    return print (\"Area of the circle = \", area)\n",
    "\n",
    "area_of_circle()"
   ]
  },
  {
   "cell_type": "markdown",
   "metadata": {},
   "source": [
    "# 2\n",
    "### 2 points\n",
    "\n",
    "Write a function that takes a 5-character string as a parameter and **returns** the string in reverse order.\n",
    "\n",
    "e.g. reverseString(\"Hello\") -> \"olleH\""
   ]
  },
  {
   "cell_type": "code",
   "execution_count": 24,
   "metadata": {},
   "outputs": [
    {
     "name": "stdout",
     "output_type": "stream",
     "text": [
      "Input a 5 character stringHello\n",
      "olleH\n"
     ]
    }
   ],
   "source": [
    "def reverseString():\n",
    "    str = \"\"\n",
    "    data = input(\"Input a 5 character string\")\n",
    "    if len(data) > 5:\n",
    "        return print(\"Please input 5 character string only!\")\n",
    "    else: \n",
    "        for i in data:\n",
    "            str = i + str\n",
    "        return print(str)\n",
    "        \n",
    "reverseString()"
   ]
  },
  {
   "cell_type": "markdown",
   "metadata": {},
   "source": [
    "# 3\n",
    "### 2 points\n",
    "\n",
    "Write a function that takes a positive integer as input and **returns** the sum of all positive integers smaller than and including the number itself.\n",
    "\n",
    "e.g. backAddition(5) -> 1 + 2 + 3 + 4 + 5 -> 15"
   ]
  },
  {
   "cell_type": "code",
   "execution_count": 38,
   "metadata": {},
   "outputs": [
    {
     "name": "stdout",
     "output_type": "stream",
     "text": [
      "15\n"
     ]
    }
   ],
   "source": [
    "def backAddition(data):\n",
    "    sum = 0\n",
    "    for num in range(0, data + 1, 1):\n",
    "        sum = sum+num\n",
    "    print(sum)\n",
    "\n",
    "backAddition(5)"
   ]
  },
  {
   "cell_type": "markdown",
   "metadata": {},
   "source": [
    "# 4\n",
    "### 5 points (all or nothing)\n",
    "\n",
    "The sum of the squares of the first ten natural numbers is,\n",
    "12 + 22 + ... + 102 = 385\n",
    "\n",
    "The square of the sum of the first ten natural numbers is,\n",
    "(1 + 2 + ... + 10)2 = 552 = 3025\n",
    "\n",
    "Hence the difference between the sum of the squares of the first ten natural numbers and the square of the sum is 3025 − 385 = 2640.\n",
    "\n",
    "Find the difference between the sum of the squares of the first one hundred natural numbers and the square of the sum.\n",
    "\n",
    "Show code that generates the answer."
   ]
  },
  {
   "cell_type": "code",
   "execution_count": 50,
   "metadata": {},
   "outputs": [
    {
     "data": {
      "text/plain": [
       "2640"
      ]
     },
     "execution_count": 50,
     "metadata": {},
     "output_type": "execute_result"
    }
   ],
   "source": [
    "length = 10;\n",
    "\n",
    "\n",
    "def sum_squares(): \n",
    "    sum = 0\n",
    "    for i in range(1, length + 1, 1):\n",
    "        sum += i * i\n",
    "\n",
    "    return sum\n",
    "\n",
    "def square_sums():\n",
    "    sum = 0\n",
    "    for i in range(1, length + 1, 1):\n",
    "        sum += i;\n",
    "\n",
    "    return sum * sum;\n",
    "\n",
    "def number_four_function():\n",
    "    return square_sums() - sum_squares()\n",
    "\n",
    "number_four_function()"
   ]
  },
  {
   "cell_type": "code",
   "execution_count": 70,
   "metadata": {},
   "outputs": [
    {
     "name": "stdout",
     "output_type": "stream",
     "text": [
      "0 2\n",
      "1 1\n",
      "4\n"
     ]
    }
   ],
   "source": [
    "def pos_system(data):\n",
    "    dummy = data\n",
    "    peso = 0\n",
    "    twenty_five_cents = 0\n",
    "    ten_cents = 0\n",
    "    five_cents = 0\n",
    "    one_cents = 0\n",
    "    length = len(str(data))\n",
    "    \n",
    "    if length > 2:\n",
    "        peso = int(str(data)[:int(length) - 2]) + peso\n",
    "        \n",
    "    if peso > 0 or dummy - (peso*100) >= 25:\n",
    "        dummy = dummy - (peso*100)\n",
    "        twenty_five_cents = dummy // 25 + twenty_five_cents\n",
    "    \n",
    "    if twenty_five_cents > 0 or dummy - (twenty_five_cents*25) >= 10:\n",
    "        dummy = dummy - (twenty_five_cents*25)\n",
    "        ten_cents = dummy // 10 + ten_cents\n",
    "    \n",
    "    if ten_cents > 0 or dummy - (ten_cents*10) >= 5:\n",
    "        dummy = dummy - (ten_cents*10)\n",
    "        five_cents = dummy // 5 + five_cents\n",
    "    \n",
    "    if five_cents > 0 or dummy - (five_cents*5) > 1:\n",
    "        dummy = dummy - (five_cents*5)\n",
    "        one_cents = dummy // 1 + one_cents\n",
    "        \n",
    "    print(peso, twenty_five_cents)\n",
    "    print(ten_cents, five_cents)\n",
    "    print(one_cents)\n",
    "\n",
    "pos_system(69)"
   ]
  }
 ],
 "metadata": {
  "kernelspec": {
   "display_name": "Python 3",
   "language": "python",
   "name": "python3"
  },
  "language_info": {
   "codemirror_mode": {
    "name": "ipython",
    "version": 3
   },
   "file_extension": ".py",
   "mimetype": "text/x-python",
   "name": "python",
   "nbconvert_exporter": "python",
   "pygments_lexer": "ipython3",
   "version": "3.8.5"
  }
 },
 "nbformat": 4,
 "nbformat_minor": 2
}
