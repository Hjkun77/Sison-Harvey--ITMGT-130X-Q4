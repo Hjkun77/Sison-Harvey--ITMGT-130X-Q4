{
 "cells": [
  {
   "cell_type": "markdown",
   "metadata": {},
   "source": [
    "**Student ID** - 172048 <br>\n",
    "**Surname** - Sison <br>\n",
    "**Year and Course** - 4 BS Management Engineering <br>"
   ]
  },
  {
   "cell_type": "markdown",
   "metadata": {},
   "source": [
    "**Problem 1**\n",
    "(3 Points)\n",
    "\n",
    "Write a program that accepts an amount in US Dollars and converts to Philippine Pesos.\n",
    "\n",
    "The input prompts must be as follows:\n",
    "\n",
    "Enter the amount in US Dollars: \n",
    "\n",
    "The output should be as follows:\n",
    "\n",
    "[us dollar amount] US dollar(s) = [philippine peso amount] Philippine Pesos.\n",
    "\n",
    "You must define a function dollars_to_pesos which accepts the amount in US dollars and returns the amount in Philippine Pesos.\n",
    "\n",
    "Assume, for simplicity, that the conversion rate is PHP50 to USD 1.\n",
    "\n",
    "Sample Input:\n",
    "\n",
    "Enter the amount in US Dollars: 1\n",
    "\n",
    "Sample Output:\n",
    "\n",
    "1 US dollar(s) = 50 Philippine Pesos.\n",
    "\n",
    "Sample Input:\n",
    "\n",
    "Enter the amount in US Dollars: 20\n",
    "\n",
    "Sample Output:\n",
    "\n",
    "20 US dollar(s) = 1000 Philippine Pesos."
   ]
  },
  {
   "cell_type": "code",
   "execution_count": 2,
   "metadata": {},
   "outputs": [
    {
     "name": "stdout",
     "output_type": "stream",
     "text": [
      "Input the amount of US Dollars you want to convert into Philippine Peso200\n",
      "200.0 US dollar(s) = 9548.0 Philippine Pesos\n"
     ]
    }
   ],
   "source": [
    "def dollars_to_pesos():\n",
    "    conversion_rate = 47.74 #conversion rate as of May 15 9pm GMT+8\n",
    "    dollar = float(input(\"Input the amount of US Dollars you want to convert into Philippine Peso\"))\n",
    "    peso = dollar * conversion_rate\n",
    "    return print(str(dollar), \"US dollar(s) =\", str(peso), \"Philippine Pesos\")\n",
    "\n",
    "dollars_to_pesos()"
   ]
  },
  {
   "cell_type": "markdown",
   "metadata": {},
   "source": [
    "**Problem 2**\n",
    "(3 Points)\n",
    "\n",
    "Write a program that accepts two positive integers, a and b, one per line.\n",
    "\n",
    "The output should be as follows:\n",
    "\n",
    "The first line should be the sum of a and b.\n",
    "\n",
    "The second line should be b subtracted from a.\n",
    "\n",
    "The third line should be the product of a and b.\n",
    "\n",
    "The fourth line should be the quotient when a is divided by b, excluding the remainder.\n",
    "\n",
    "The fifth line should be the remainder when a is divided by b.\n",
    "\n",
    "Sample Input:\n",
    "\n",
    "55\n",
    "3\n",
    "\n",
    "Sample Output:\n",
    "\n",
    "58\n",
    "52\n",
    "165\n",
    "18\n",
    "1\n",
    "\n",
    "\n",
    "Sample Input:\n",
    "\n",
    "128\n",
    "8\n",
    "\n",
    "Sample Output:\n",
    "\n",
    "136\n",
    "120\n",
    "1024\n",
    "16\n",
    "0"
   ]
  },
  {
   "cell_type": "code",
   "execution_count": 5,
   "metadata": {},
   "outputs": [
    {
     "name": "stdout",
     "output_type": "stream",
     "text": [
      "Input one postive integer 55\n",
      "Input another postive integer 3\n",
      "58 52 165 18 1\n"
     ]
    }
   ],
   "source": [
    "def problem_2_function():\n",
    "    a = int(input(\"Input one postive integer \"))\n",
    "    b = int(input(\"Input another postive integer \"))\n",
    "    first_line = a + b\n",
    "    second_line = abs(b - a)\n",
    "    third_line = a * b\n",
    "    fourth_line = a // b \n",
    "    fifth_line = a % b\n",
    "    return print(first_line, second_line, third_line, fourth_line, fifth_line)\n",
    "\n",
    "problem_2_function()"
   ]
  },
  {
   "cell_type": "markdown",
   "metadata": {},
   "source": [
    "**Problem 3**\n",
    "(4 Points)\n",
    "\n",
    "Write a program that computes for your Body Mass Index (BMI). The formula for the BMI is as follows:\n",
    "\n",
    "BMI=kgm2\n",
    "\n",
    "where kg is a person's weight in kilograms and m is height in meters.\n",
    "\n",
    "Define a function compute_bmi that accepts kg and m as parameters and returns the BMI.\n",
    "\n",
    "Be sure to convert cm to meters for the formula to work; write a function convert_cm_to_m which accepts a parameter cm and returns the meters. Feel free to Google the conversion.\n",
    "\n",
    "Make sure that the program prompts the user with Enter kg and Enter cm for kg and cm respectively.\n",
    "\n",
    "Your output should be in the form BMI: <computed bmi>\n",
    "\n",
    "Sample Input\n",
    "\n",
    "Enter kg: 65\n",
    "Enter cm: 180\n",
    "\n",
    "Sample Output\n",
    "\n",
    "BMI: 20.061728395061728\n",
    "\n",
    "Sample Input\n",
    "\n",
    "Enter kg: 67\n",
    "Enter cm: 178\n",
    "\n",
    "Sample Output\n",
    "\n",
    "BMI: 21.146319909102385\n",
    "\n",
    "Sample Input\n",
    "\n",
    "Enter kg: 70\n",
    "Enter cm: 170\n",
    "\n",
    "Sample Output\n",
    "\n",
    "BMI: 24.221453287197235"
   ]
  },
  {
   "cell_type": "code",
   "execution_count": 2,
   "metadata": {},
   "outputs": [
    {
     "name": "stdout",
     "output_type": "stream",
     "text": [
      "Enter kg: 65\n",
      "Enter cm: 180\n",
      "BMI: 20.061728395061728\n"
     ]
    }
   ],
   "source": [
    "def convert_cm_to_m(cm):\n",
    "    return cm / 100\n",
    "\n",
    "def compute_bmi(): \n",
    "    kg = int(input(\"Enter kg: \"))\n",
    "    cm = int(input(\"Enter cm: \"))\n",
    "    m = convert_cm_to_m(cm)\n",
    "    return print(\"BMI:\", kg / (m**2))\n",
    "\n",
    "compute_bmi()"
   ]
  }
 ],
 "metadata": {
  "kernelspec": {
   "display_name": "Python 3",
   "language": "python",
   "name": "python3"
  },
  "language_info": {
   "codemirror_mode": {
    "name": "ipython",
    "version": 3
   },
   "file_extension": ".py",
   "mimetype": "text/x-python",
   "name": "python",
   "nbconvert_exporter": "python",
   "pygments_lexer": "ipython3",
   "version": "3.8.5"
  }
 },
 "nbformat": 4,
 "nbformat_minor": 4
}
