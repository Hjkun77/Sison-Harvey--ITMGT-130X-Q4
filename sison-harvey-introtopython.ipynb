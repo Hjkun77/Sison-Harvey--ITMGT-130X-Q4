{
 "cells": [
  {
   "cell_type": "markdown",
   "metadata": {},
   "source": [
    "**Student ID** - 172048 <br>\n",
    "**Surname** - Sison <br>\n",
    "**Year and Course** - 4 BS Management Engineering <br>"
   ]
  },
  {
   "cell_type": "code",
   "execution_count": 8,
   "metadata": {},
   "outputs": [
    {
     "name": "stdout",
     "output_type": "stream",
     "text": [
      "Enter any 3 numbers to find average: \n",
      "Enter first number: 2\n",
      "Enter second number: 4\n",
      "Enter third number: 6\n",
      "The average is  4.0\n"
     ]
    }
   ],
   "source": [
    "def three_number_average():\n",
    "    print(\"Enter any 3 numbers to find average: \")\n",
    "    x = int(input(\"Enter first number: \"))\n",
    "    y = int(input(\"Enter second number: \"))\n",
    "    z = int(input(\"Enter third number: \"))\n",
    "    average = (x+y+z)/3\n",
    "    print(\"The average is \", average)\n",
    "\n",
    "three_number_average()"
   ]
  },
  {
   "cell_type": "code",
   "execution_count": null,
   "metadata": {},
   "outputs": [],
   "source": []
  }
 ],
 "metadata": {
  "kernelspec": {
   "display_name": "Python 3",
   "language": "python",
   "name": "python3"
  },
  "language_info": {
   "codemirror_mode": {
    "name": "ipython",
    "version": 3
   },
   "file_extension": ".py",
   "mimetype": "text/x-python",
   "name": "python",
   "nbconvert_exporter": "python",
   "pygments_lexer": "ipython3",
   "version": "3.8.5"
  }
 },
 "nbformat": 4,
 "nbformat_minor": 4
}
